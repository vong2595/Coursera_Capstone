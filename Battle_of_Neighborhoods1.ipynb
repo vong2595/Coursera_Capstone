{
 "cells": [
  {
   "cell_type": "markdown",
   "metadata": {},
   "source": [
    "# The Battle of the Neighborhoods Week 1 - Nam Le"
   ]
  },
  {
   "cell_type": "markdown",
   "metadata": {},
   "source": [
    "## Introduction"
   ]
  },
  {
   "cell_type": "markdown",
   "metadata": {},
   "source": [
    "#### Problem Background"
   ]
  },
  {
   "cell_type": "markdown",
   "metadata": {},
   "source": [
    "New York City is the most populous city in the US and one of the most diverse as well. In any major city, with high population and high diversity, competition among restaurants are extremely high. Anyone entering the NYC restaurant landscape will need to conduct thorough analysis to determine the optimal location and area to open and thrive. Additionally, thorough analysis of the business environments and consumer preferences, segmented by area, will serve this new business venture well."
   ]
  },
  {
   "cell_type": "markdown",
   "metadata": {},
   "source": [
    "#### Problem Description"
   ]
  },
  {
   "cell_type": "markdown",
   "metadata": {},
   "source": [
    "New York City has a broad variety of different cuisines from all over the world, influenced by the city's immigrant history.\n",
    "\n",
    "International cuisine includes Jewish delicatessens, Italian restaurants, Asian restaurants, diners, and coffeehouses are ubiquitous throughout the city. Additionally there are lots of food trucks and street food options provided by fusion businesses and Middle Eastern street food.\n",
    "\n",
    "From this giant list, it is evident that significant planning and analysis is required to survive in such competitive market. Factors that need to be evaluated:\n",
    "1. Population\n",
    "2. Demographics\n",
    "3. Nearby markets and produce\n",
    "4. Foot traffic for nearby venues\n",
    "5. Nearby competitors\n",
    "6. Clusters of cuisine types (untapped and saturated markets)\n",
    "\n",
    "In order to make the most efficient model; however, it is ideal to not overload with an unreasonable amount of dimensions. "
   ]
  },
  {
   "cell_type": "markdown",
   "metadata": {},
   "source": [
    "#### Target Audience"
   ]
  },
  {
   "cell_type": "markdown",
   "metadata": {},
   "source": [
    "This capstone's objective is to locate and recommend which neighborhood of NYC is most optimal to open a restaurant. From thorough analysis, we will gain a full understanding of how the model is created, what the results mean, and serve as a replicable method for anyone interested in starting a restaurant in NYC."
   ]
  },
  {
   "cell_type": "markdown",
   "metadata": {},
   "source": [
    "#### Output"
   ]
  },
  {
   "cell_type": "markdown",
   "metadata": {},
   "source": [
    "The result of this project is to recommend a borough/neighborhood that is best for opening a new restaurant based on desired criteria."
   ]
  }
 ],
 "metadata": {
  "kernelspec": {
   "display_name": "Python",
   "language": "python",
   "name": "conda-env-python-py"
  },
  "language_info": {
   "codemirror_mode": {
    "name": "ipython",
    "version": 3
   },
   "file_extension": ".py",
   "mimetype": "text/x-python",
   "name": "python",
   "nbconvert_exporter": "python",
   "pygments_lexer": "ipython3",
   "version": "3.6.10"
  }
 },
 "nbformat": 4,
 "nbformat_minor": 4
}
