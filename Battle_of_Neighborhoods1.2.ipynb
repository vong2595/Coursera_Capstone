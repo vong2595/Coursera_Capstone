{
 "cells": [
  {
   "cell_type": "markdown",
   "metadata": {},
   "source": [
    "# Battle of the Neighborhoods Week 1 Data - Nam Le"
   ]
  },
  {
   "cell_type": "markdown",
   "metadata": {},
   "source": [
    "#### There will be four types of data that will be explored in this study\n",
    "1. Borough and Neighborhood data\n",
    "2. Population, Demographics, and Cuisine Types data\n",
    "3. Farmers markets and produce data\n",
    "4. Geographic location data"
   ]
  },
  {
   "cell_type": "markdown",
   "metadata": {},
   "source": [
    "**Data 1**: Borough and Neighborhood data - Neighborhood has a total of 5 boroughs and 306 neighborhoods. In order to segment the neighborhoods and explore them, we will essentially need a dataset that contains the 5 boroughs and the neighborhoods that exist in each borough as well as the the latitude and longitude coordinates of each neighborhood.\n",
    "\n",
    "Luckily, this dataset exists for free on the web. Feel free to try to find this dataset on your own, but here is the link to the dataset: https://geo.nyu.edu/catalog/nyu_2451_34572   **This is the data used in week 3**"
   ]
  },
  {
   "cell_type": "markdown",
   "metadata": {},
   "source": [
    "**Data 2**: Population, Demographics, and Cuisine Types data - we will use the free data provided by wikipedia\n",
    "1. https://en.wikipedia.org/wiki/New_York_City\n",
    "2. https://en.wikipedia.org/wiki/Economy_of_New_York_City\n",
    "3. https://en.wikipedia.org/wiki/Cuisine_of_New_York_City\n"
   ]
  },
  {
   "cell_type": "markdown",
   "metadata": {},
   "source": [
    "**Data 3**: Farmers markets and produce data - the most accessible dataset is the DOHMH Farmers Markets and Food Boxes dataset. https://data.cityofnewyork.us/dataset/DOHMH-Farmers-Markets-and-Food-Boxes/8vwk-6iz2\n",
    "\n",
    "This is important data because every restaurant needs to minimize costs for produce and ingredients for their cuisine. Its generally lower cost to be close to these markets to minimize overhead expenses."
   ]
  },
  {
   "cell_type": "markdown",
   "metadata": {},
   "source": [
    "**Data 4**: Geographic location data - we will use the Foursquare API to provide location data about venues. Similarly to our project with Toronto data, we will use Foursquare to merge datasets, visualize clusters, and ultimately make recommendations."
   ]
  },
  {
   "cell_type": "markdown",
   "metadata": {},
   "source": [
    "Cumulatively, by integrating neighborhood/borough information, population, demographics, cuisine types, producer distribution, and location data, we can fully create a recommender system."
   ]
  }
 ],
 "metadata": {
  "kernelspec": {
   "display_name": "Python",
   "language": "python",
   "name": "conda-env-python-py"
  },
  "language_info": {
   "codemirror_mode": {
    "name": "ipython",
    "version": 3
   },
   "file_extension": ".py",
   "mimetype": "text/x-python",
   "name": "python",
   "nbconvert_exporter": "python",
   "pygments_lexer": "ipython3",
   "version": "3.6.10"
  }
 },
 "nbformat": 4,
 "nbformat_minor": 4
}
